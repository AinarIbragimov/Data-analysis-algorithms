{
 "cells": [
  {
   "cell_type": "code",
   "execution_count": 42,
   "metadata": {},
   "outputs": [],
   "source": [
    "import numpy as np\n",
    "from sklearn.datasets import load_iris\n",
    "from sklearn.model_selection import train_test_split\n",
    "from matplotlib import pyplot as plt"
   ]
  },
  {
   "cell_type": "code",
   "execution_count": 43,
   "metadata": {},
   "outputs": [],
   "source": [
    "import numpy as np\n",
    "from sklearn import datasets\n",
    "import matplotlib.pyplot as plt"
   ]
  },
  {
   "cell_type": "code",
   "execution_count": 44,
   "metadata": {},
   "outputs": [
    {
     "data": {
      "text/plain": [
       "(150, 4)"
      ]
     },
     "execution_count": 44,
     "metadata": {},
     "output_type": "execute_result"
    }
   ],
   "source": [
    "# Загрузим игрушечный датасет из sklearn\n",
    "iris = datasets.load_iris()\n",
    "X = iris.data\n",
    "X.shape"
   ]
  },
  {
   "cell_type": "markdown",
   "metadata": {},
   "source": [
    "# Задание 1"
   ]
  },
  {
   "cell_type": "markdown",
   "metadata": {},
   "source": [
    "Обучить любую модель классификации на датасете IRIS до применения PCA (2 компоненты) и после него. Сравнить качество классификации по отложенной выборке."
   ]
  },
  {
   "cell_type": "markdown",
   "metadata": {},
   "source": [
    "### Решение"
   ]
  },
  {
   "cell_type": "code",
   "execution_count": 45,
   "metadata": {},
   "outputs": [],
   "source": [
    "def e_metrics(x1, x2):\n",
    "\n",
    "    distance = np.sum(np.square(x1 - x2))\n",
    "\n",
    "    return np.sqrt(distance)"
   ]
  },
  {
   "cell_type": "code",
   "execution_count": 46,
   "metadata": {},
   "outputs": [],
   "source": [
    "def knn(x_train, y_train, x_test, k):\n",
    "    \n",
    "    answers = []\n",
    "    for x in x_test:\n",
    "        test_distances = []\n",
    "            \n",
    "        for i in range(len(x_train)):\n",
    "            \n",
    "            # расчет расстояния от классифицируемого объекта до\n",
    "            # объекта обучающей выборки\n",
    "            distance = e_metrics(x, x_train[i])\n",
    "            \n",
    "            # Записываем в список значение расстояния и ответа на объекте обучающей выборки\n",
    "            test_distances.append((distance, y_train[i]))\n",
    "        \n",
    "        # создаем словарь со всеми возможными классами\n",
    "        classes = {class_item: 0 for class_item in set(y_train)}\n",
    "        \n",
    "        # Сортируем список и среди первых k элементов подсчитаем частоту появления разных классов\n",
    "        for d in sorted(test_distances)[0:k]:\n",
    "            classes[d[1]] += 1\n",
    "\n",
    "        # Записываем в список ответов наиболее часто встречающийся класс\n",
    "        answers.append(sorted(classes, key=classes.get)[-1])\n",
    "        \n",
    "    return answers"
   ]
  },
  {
   "cell_type": "code",
   "execution_count": 47,
   "metadata": {},
   "outputs": [],
   "source": [
    "def accuracy(pred, y):\n",
    "    return (sum(pred == y) / len(y))"
   ]
  },
  {
   "cell_type": "code",
   "execution_count": 48,
   "metadata": {},
   "outputs": [
    {
     "data": {
      "text/plain": [
       "(150, 4)"
      ]
     },
     "execution_count": 48,
     "metadata": {},
     "output_type": "execute_result"
    }
   ],
   "source": [
    "X, y = load_iris(return_X_y=True)\n",
    "X = iris.data\n",
    "# X = X[:, :2]\n",
    "X.shape"
   ]
  },
  {
   "cell_type": "code",
   "execution_count": 49,
   "metadata": {},
   "outputs": [],
   "source": [
    "X_train, X_test, y_train, y_test = train_test_split(X, y,\n",
    "                                                    test_size=0.2,\n",
    "                                                    random_state=1,\n",
    "                                                    stratify=y)"
   ]
  },
  {
   "cell_type": "code",
   "execution_count": 50,
   "metadata": {},
   "outputs": [
    {
     "name": "stdout",
     "output_type": "stream",
     "text": [
      "Точность алгоритма на трейне при k = 100: 0.500\n",
      "Точность алгоритма на тесте при k = 100: 0.467\n"
     ]
    }
   ],
   "source": [
    "k = 100\n",
    "\n",
    "y_pred_train = knn(X_train, y_train, X_train, k)\n",
    "y_pred = knn(X_train, y_train, X_test, k)\n",
    "\n",
    "print(f'Точность алгоритма на трейне при k = {k}: {accuracy(y_pred_train, y_train):.3f}')\n",
    "print(f'Точность алгоритма на тесте при k = {k}: {accuracy(y_pred, y_test):.3f}')"
   ]
  },
  {
   "cell_type": "markdown",
   "metadata": {},
   "source": [
    "Обработаем данные при помощи PCA"
   ]
  },
  {
   "cell_type": "code",
   "execution_count": 51,
   "metadata": {},
   "outputs": [],
   "source": [
    "def standard_scale(x):\n",
    "    res = (x - x.mean(axis=0)) / x.std(axis=0)\n",
    "    return res"
   ]
  },
  {
   "cell_type": "code",
   "execution_count": 52,
   "metadata": {},
   "outputs": [],
   "source": [
    "# Для начала отмасштабируем выборку\n",
    "X = X.astype(float)\n",
    "\n",
    "X = standard_scale(X)"
   ]
  },
  {
   "cell_type": "code",
   "execution_count": 53,
   "metadata": {},
   "outputs": [
    {
     "name": "stdout",
     "output_type": "stream",
     "text": [
      "Собственные значения и собственные векторы в порядке убывания:\n",
      "(437.77467247979894, array([ 0.52106591, -0.26934744,  0.5804131 ,  0.56485654]))\n",
      "(137.10457072021055, array([-0.37741762, -0.92329566, -0.02449161, -0.06694199]))\n",
      "(22.01353133569725, array([-0.71956635,  0.24438178,  0.14212637,  0.63427274]))\n",
      "(3.1072254642929513, array([ 0.26128628, -0.12350962, -0.80144925,  0.52359713]))\n"
     ]
    }
   ],
   "source": [
    "# Найдем собственные векторы и собственные значения\n",
    " \n",
    "covariance_matrix = X.T @ X\n",
    "\n",
    "eig_values, eig_vectors = np.linalg.eig(covariance_matrix)\n",
    "\n",
    "# сформируем список кортежей (собственное значение, собственный вектор)\n",
    "eig_pairs = [(np.abs(eig_values[i]), eig_vectors[:, i]) for i in range(len(eig_values))]\n",
    "\n",
    "# и отсортируем список по убыванию собственных значений\n",
    "eig_pairs.sort(key=lambda x: x[0], reverse=True)\n",
    "\n",
    "print('Собственные значения и собственные векторы в порядке убывания:')\n",
    "for i in eig_pairs:\n",
    "    print(i)"
   ]
  },
  {
   "cell_type": "markdown",
   "metadata": {},
   "source": [
    "Оценим долю дисперсии, которая описывается найденными компонентами."
   ]
  },
  {
   "cell_type": "code",
   "execution_count": 54,
   "metadata": {},
   "outputs": [
    {
     "name": "stdout",
     "output_type": "stream",
     "text": [
      "Доля дисперсии, описываемая каждой из компонент \n",
      "[72.96244541329986, 22.85076178670177, 3.668921889282877, 0.5178709107154922]\n",
      "Кумулятивная доля дисперсии по компонентам \n",
      "[ 72.96244541  95.8132072   99.48212909 100.        ]\n"
     ]
    }
   ],
   "source": [
    "eig_sum = sum(eig_values)\n",
    "var_exp = [(i / eig_sum) * 100 for i in sorted(eig_values, reverse=True)]\n",
    "cum_var_exp = np.cumsum(var_exp)\n",
    "print(f'Доля дисперсии, описываемая каждой из компонент \\n{var_exp}')\n",
    "\n",
    "# а теперь оценим кумулятивную (то есть накапливаемую) дисперсию при учитывании каждой из компонент\n",
    "print(f'Кумулятивная доля дисперсии по компонентам \\n{cum_var_exp}')"
   ]
  },
  {
   "cell_type": "markdown",
   "metadata": {},
   "source": [
    "Первые две компоненты описывают 94% информации. Отбрасываем две последние компоненты"
   ]
  },
  {
   "cell_type": "code",
   "execution_count": 55,
   "metadata": {},
   "outputs": [
    {
     "name": "stdout",
     "output_type": "stream",
     "text": [
      "Матрица весов W:\n",
      " [[ 0.52106591 -0.37741762]\n",
      " [-0.26934744 -0.92329566]\n",
      " [ 0.5804131  -0.02449161]\n",
      " [ 0.56485654 -0.06694199]]\n"
     ]
    }
   ],
   "source": [
    "# Сформируем вектор весов из собственных векторов, соответствующих первым двум главным компонентам\n",
    "W = np.hstack([eig_pairs[i][1].reshape(4,1) for i in range(2)])\n",
    "\n",
    "print(f'Матрица весов W:\\n', W)"
   ]
  },
  {
   "cell_type": "code",
   "execution_count": 56,
   "metadata": {},
   "outputs": [],
   "source": [
    "# Сформируем новую матрицу \"объекты-признаки\"\n",
    "Z = X.dot(W)"
   ]
  },
  {
   "cell_type": "code",
   "execution_count": 57,
   "metadata": {},
   "outputs": [
    {
     "data": {
      "image/png": "[encoded data removed]",
      "text/plain": [
       "<Figure size 432x288 with 1 Axes>"
      ]
     },
     "metadata": {
      "needs_background": "light"
     },
     "output_type": "display_data"
    }
   ],
   "source": [
    "plt.figure()\n",
    "y = iris.target\n",
    "for c, i in zip(\"rgb\", [0, 1, 2]):\n",
    "    plt.scatter(Z[y == i, 0], Z[y == i, 1], c=c)\n",
    "plt.xlabel('Главная компонента 1')\n",
    "plt.ylabel('Главная компонента 2')\n",
    "plt.title('PCA датасета IRIS')\n",
    "plt.show()"
   ]
  },
  {
   "cell_type": "raw",
   "metadata": {},
   "source": [
    "Оценим качество knn при отбрасывании двух последних компонент"
   ]
  },
  {
   "cell_type": "code",
   "execution_count": 58,
   "metadata": {},
   "outputs": [],
   "source": [
    "X_cutted = X[:, :2]"
   ]
  },
  {
   "cell_type": "code",
   "execution_count": 59,
   "metadata": {},
   "outputs": [],
   "source": [
    "X_train, X_test, y_train, y_test = train_test_split(X_cutted, y,\n",
    "                                                    test_size=0.2,\n",
    "                                                    random_state=1,\n",
    "                                                    stratify=y)"
   ]
  },
  {
   "cell_type": "code",
   "execution_count": 60,
   "metadata": {},
   "outputs": [
    {
     "name": "stdout",
     "output_type": "stream",
     "text": [
      "Точность алгоритма на трейне при k = 100: 0.758\n",
      "Точность алгоритма на тесте при k = 100: 0.667\n"
     ]
    }
   ],
   "source": [
    "k = 100\n",
    "\n",
    "y_pred_train = knn(X_train, y_train, X_train, k)\n",
    "y_pred = knn(X_train, y_train, X_test, k)\n",
    "\n",
    "print(f'Точность алгоритма на трейне при k = {k}: {accuracy(y_pred_train, y_train):.3f}')\n",
    "print(f'Точность алгоритма на тесте при k = {k}: {accuracy(y_pred, y_test):.3f}')"
   ]
  },
  {
   "cell_type": "markdown",
   "metadata": {},
   "source": [
    "Оценим качество knn при применении PCA"
   ]
  },
  {
   "cell_type": "code",
   "execution_count": 61,
   "metadata": {},
   "outputs": [],
   "source": [
    "X_train, X_test, y_train, y_test = train_test_split(Z, y,\n",
    "                                                    test_size=0.2,\n",
    "                                                    random_state=1,\n",
    "                                                    stratify=y)"
   ]
  },
  {
   "cell_type": "code",
   "execution_count": 62,
   "metadata": {},
   "outputs": [
    {
     "name": "stdout",
     "output_type": "stream",
     "text": [
      "Точность алгоритма на трейне при k = 100: 0.675\n",
      "Точность алгоритма на тесте при k = 100: 0.567\n"
     ]
    }
   ],
   "source": [
    "k = 100\n",
    "\n",
    "y_pred_train = knn(X_train, y_train, X_train, k)\n",
    "y_pred = knn(X_train, y_train, X_test, k)\n",
    "\n",
    "print(f'Точность алгоритма на трейне при k = {k}: {accuracy(y_pred_train, y_train):.3f}')\n",
    "print(f'Точность алгоритма на тесте при k = {k}: {accuracy(y_pred, y_test):.3f}')"
   ]
  },
  {
   "cell_type": "markdown",
   "metadata": {},
   "source": [
    "### До применения PCA:\n",
    "Точность алгоритма на трейне при k = 100: 0.500 \\\n",
    "Точность алгоритма на тесте при k = 100: 0.467\n",
    "\n",
    "### При отбрасывании двух последних малозначащих признаков\n",
    "Точность алгоритма на трейне при k = 100: 0.758 \\\n",
    "Точность алгоритма на тесте при k = 100: 0.667\n",
    "\n",
    "### После применения PCA\n",
    "Точность алгоритма на трейне при k = 100: 0.675 \\\n",
    "Точность алгоритма на тесте при k = 100: 0.567"
   ]
  },
  {
   "cell_type": "markdown",
   "metadata": {},
   "source": [
    "При применении PCA наблюдаем увеличение качества модели на 10-17% \\\n",
    "При отбрасывании малозначащих признаков наблюдаем увеличение качества модели на 20-25%"
   ]
  },
  {
   "cell_type": "markdown",
   "metadata": {},
   "source": [
    "# Задание 2"
   ]
  },
  {
   "cell_type": "markdown",
   "metadata": {},
   "source": [
    "*Написать свою реализацию метода главных компонент с помощью сингулярного разложения с использованием функции [numpy.linalg.svd()](https://docs.scipy.org/doc/numpy/reference/generated/numpy.linalg.svd.html)"
   ]
  },
  {
   "cell_type": "markdown",
   "metadata": {},
   "source": [
    "### Решение"
   ]
  },
  {
   "cell_type": "code",
   "execution_count": 63,
   "metadata": {},
   "outputs": [],
   "source": [
    "def pca_sdv(X, d=1):\n",
    "    X_T_X = X.T @ X\n",
    "    U, s, W = np.linalg.svd(X_T_X)\n",
    "\n",
    "    # Транспонируем матрицу W\n",
    "    V = W.T\n",
    "    \n",
    "    pairs = sorted([[idx, item] for idx, item in enumerate(s)], key=lambda item: item[1])\n",
    "    pairs.reverse()\n",
    "    \n",
    "    pairs = np.array(pairs, dtype=int)\n",
    "    \n",
    "    max_pairs = pairs[:d]\n",
    "    max_ids = max_pairs[:, 0]\n",
    "    \n",
    "    WEIGHTS = V[max_ids].T\n",
    "    \n",
    "    return X @ WEIGHTS"
   ]
  },
  {
   "cell_type": "code",
   "execution_count": 64,
   "metadata": {},
   "outputs": [
    {
     "data": {
      "text/plain": [
       "array([[-1.22336539, -0.6934415 ],\n",
       "       [-0.66269093,  0.30398437],\n",
       "       [-0.75107696, -0.17247746],\n",
       "       [-0.5192636 , -0.02035411],\n",
       "       [-1.24710926, -0.93861743],\n",
       "       [-1.56881373, -1.51987721],\n",
       "       [-0.78640916, -0.66034094],\n",
       "       [-1.03245033, -0.52742811],\n",
       "       [-0.26012838,  0.35334276],\n",
       "       [-0.74306663,  0.0938125 ],\n",
       "       [-1.54563707, -1.03450211],\n",
       "       [-0.86527914, -0.60659065],\n",
       "       [-0.63394816,  0.28760595],\n",
       "       [-0.44096083,  0.16609477],\n",
       "       [-2.1815187 , -1.49990602],\n",
       "       [-2.27442124, -2.45688675],\n",
       "       [-1.73240693, -1.46431708],\n",
       "       [-1.18897171, -0.70969934],\n",
       "       [-1.70573644, -1.19317092],\n",
       "       [-1.40871435, -1.36120839],\n",
       "       [-1.20319952, -0.42466315],\n",
       "       [-1.28744036, -1.16492656],\n",
       "       [-1.15815667, -1.01360233],\n",
       "       [-0.82372881, -0.35880576],\n",
       "       [-0.74258424, -0.64826075],\n",
       "       [-0.64403077,  0.30884056],\n",
       "       [-0.92276467, -0.57383382],\n",
       "       [-1.24560354, -0.67469527],\n",
       "       [-1.19962153, -0.44826557],\n",
       "       [-0.62838206, -0.21414756],\n",
       "       [-0.60463819,  0.03102837],\n",
       "       [-1.21620875, -0.42939877],\n",
       "       [-1.80127911, -1.93367548],\n",
       "       [-2.08407339, -2.0506742 ],\n",
       "       [-0.70867294,  0.07755466],\n",
       "       [-0.9813846 , -0.06067866],\n",
       "       [-1.51680948, -0.54900644],\n",
       "       [-1.2183665 , -0.95499584],\n",
       "       [-0.38790699,  0.15469312],\n",
       "       [-1.09558678, -0.49479185],\n",
       "       [-1.16673356, -0.72844556],\n",
       "       [ 0.19151245,  1.65884926],\n",
       "       [-0.56166762, -0.27038623],\n",
       "       [-0.94085761, -0.81888918],\n",
       "       [-1.21072747, -1.43302636],\n",
       "       [-0.5651608 ,  0.25509027],\n",
       "       [-1.40220974, -1.35884059],\n",
       "       [-0.64704221, -0.21900375],\n",
       "       [-1.48250062, -1.06713837],\n",
       "       [-0.98646832, -0.3009984 ],\n",
       "       [-0.39994884, -0.08919874],\n",
       "       [-0.06853308, -0.27349405],\n",
       "       [-0.1337418 ,  0.04666678],\n",
       "       [ 1.00833891,  1.44760256],\n",
       "       [ 0.25675003,  0.59541087],\n",
       "       [ 0.65215594,  0.38072654],\n",
       "       [ 0.02391334, -0.56270789],\n",
       "       [ 0.91080813,  1.18524909],\n",
       "       [ 0.03794591,  0.44802313],\n",
       "       [ 0.84372238,  0.49716728],\n",
       "       [ 1.27698954,  2.04026398],\n",
       "       [ 0.29821489,  0.03007411],\n",
       "       [ 0.67635594,  1.87209704],\n",
       "       [ 0.42892012,  0.25469398],\n",
       "       [ 0.26032738,  0.26056089],\n",
       "       [-0.24635409,  0.06710226],\n",
       "       [ 0.61031913, -0.10950475],\n",
       "       [ 0.40912556,  0.73023612],\n",
       "       [ 0.92654296,  1.78663019],\n",
       "       [ 0.66175617,  1.10156518],\n",
       "       [ 0.47302511, -0.52711895],\n",
       "       [ 0.19511866,  0.58072172],\n",
       "       [ 0.76635877,  1.12608729],\n",
       "       [ 0.44701307,  0.49974934],\n",
       "       [ 0.0415239 ,  0.42442072],\n",
       "       [-0.09633733,  0.24700568],\n",
       "       [ 0.11474361,  0.68179742],\n",
       "       [ 0.18909708,  0.14752822],\n",
       "       [ 0.44465366,  0.23357995],\n",
       "       [ 0.31375252,  0.99347973],\n",
       "       [ 0.77087463,  1.29535863],\n",
       "       [ 0.69558265,  1.3255065 ],\n",
       "       [ 0.39611633,  0.7255005 ],\n",
       "       [ 0.89819777,  0.55906127],\n",
       "       [ 0.73659202, -0.17477726],\n",
       "       [ 0.04464577, -0.84537627],\n",
       "       [-0.0892655 ,  0.00917433],\n",
       "       [ 0.66684053,  1.65313248],\n",
       "       [ 0.37793856, -0.02142894],\n",
       "       [ 0.83457828,  1.02252321],\n",
       "       [ 0.87689748,  0.77068125],\n",
       "       [ 0.30114151,  0.05604434],\n",
       "       [ 0.52389494,  0.92415014],\n",
       "       [ 0.934552  ,  1.43042502],\n",
       "       [ 0.67947781,  0.60230005],\n",
       "       [ 0.32130673,  0.01357512],\n",
       "       [ 0.44258073,  0.20985696],\n",
       "       [ 0.16779679,  0.3591482 ],\n",
       "       [ 0.6093537 ,  1.06339418],\n",
       "       [ 0.48856274,  0.43628666],\n",
       "       [ 0.86513439, -0.88959887],\n",
       "       [ 1.12765171,  0.44501523],\n",
       "       [ 0.44221072,  0.0880316 ],\n",
       "       [ 0.80830667,  0.12992485],\n",
       "       [ 0.81452479, -0.11015374],\n",
       "       [ 0.41281659,  0.15398266],\n",
       "       [ 1.5554632 ,  0.69222415],\n",
       "       [ 0.46323029,  0.35905718],\n",
       "       [ 0.98507873,  1.08284851],\n",
       "       [ 0.07716372, -1.24738162],\n",
       "       [ 0.28568869, -0.40548719],\n",
       "       [ 0.83062963,  0.61305271],\n",
       "       [ 0.46802687,  0.04568296],\n",
       "       [ 1.35804417,  0.83509052],\n",
       "       [ 1.21273982,  0.15118635],\n",
       "       [ 0.53380279, -0.51467703],\n",
       "       [ 0.55425516, -0.00345229],\n",
       "       [-0.27007039, -1.54384636],\n",
       "       [ 0.88868367,  0.96259184],\n",
       "       [ 1.25730736,  1.65190752],\n",
       "       [ 0.38171376, -0.40705588],\n",
       "       [ 1.11964138,  0.17872527],\n",
       "       [ 0.52994539,  0.61406608],\n",
       "       [ 0.69577919,  0.65223442],\n",
       "       [ 0.35231897, -0.65235239],\n",
       "       [ 0.1430309 , -0.269528  ],\n",
       "       [ 0.63113703,  0.42094852],\n",
       "       [ 0.56141115, -0.05065712],\n",
       "       [ 0.93523158,  0.32632725],\n",
       "       [ 0.16620756,  0.21584709],\n",
       "       [ 0.43957124,  0.61575534],\n",
       "       [-0.58782555, -1.40438807],\n",
       "       [ 0.96962527,  0.31006941],\n",
       "       [ 0.58751443,  0.4606882 ],\n",
       "       [ 1.05764577,  0.76730272],\n",
       "       [ 0.21397601,  0.22355339],\n",
       "       [ 0.58026719, -1.03032058],\n",
       "       [ 0.53051129, -0.24862822],\n",
       "       [ 0.58364929, -0.06940335],\n",
       "       [ 0.2771118 , -0.12033043],\n",
       "       [ 0.58836235, -0.26215653],\n",
       "       [ 0.22320427, -0.11117602],\n",
       "       [ 1.12765171,  0.44501523],\n",
       "       [ 0.5266468 , -0.4674722 ],\n",
       "       [ 0.4898937 , -0.71738375],\n",
       "       [ 0.47725578,  0.02220112],\n",
       "       [ 0.94483181,  1.04716589],\n",
       "       [ 0.50034762,  0.00570213],\n",
       "       [ 0.52721336, -1.01891893],\n",
       "       [ 0.76948064, -0.1437097 ]])"
      ]
     },
     "execution_count": 64,
     "metadata": {},
     "output_type": "execute_result"
    }
   ],
   "source": [
    "Z_PCA_SDV = pca_sdv(X, 2)\n",
    "Z_PCA_SDV"
   ]
  },
  {
   "cell_type": "code",
   "execution_count": 65,
   "metadata": {},
   "outputs": [],
   "source": [
    "X_train, X_test, y_train, y_test = train_test_split(Z_PCA_SDV, y,\n",
    "                                                    test_size=0.2,\n",
    "                                                    random_state=1,\n",
    "                                                    stratify=y)"
   ]
  },
  {
   "cell_type": "code",
   "execution_count": 66,
   "metadata": {},
   "outputs": [
    {
     "name": "stdout",
     "output_type": "stream",
     "text": [
      "Точность алгоритма на трейне при k = 100: 0.675\n",
      "Точность алгоритма на тесте при k = 100: 0.700\n"
     ]
    }
   ],
   "source": [
    "k = 100\n",
    "\n",
    "y_pred_train = knn(X_train, y_train, X_train, k)\n",
    "y_pred = knn(X_train, y_train, X_test, k)\n",
    "\n",
    "print(f'Точность алгоритма на трейне при k = {k}: {accuracy(y_pred_train, y_train):.3f}')\n",
    "print(f'Точность алгоритма на тесте при k = {k}: {accuracy(y_pred, y_test):.3f}')"
   ]
  },
  {
   "cell_type": "code",
   "execution_count": null,
   "metadata": {},
   "outputs": [],
   "source": []
  }
 ],
 "metadata": {
  "kernelspec": {
   "display_name": "Python 3",
   "language": "python",
   "name": "python3"
  },
  "language_info": {
   "codemirror_mode": {
    "name": "ipython",
    "version": 3
   },
   "file_extension": ".py",
   "mimetype": "text/x-python",
   "name": "python",
   "nbconvert_exporter": "python",
   "pygments_lexer": "ipython3",
   "version": "3.7.7"
  }
 },
 "nbformat": 4,
 "nbformat_minor": 4
}
